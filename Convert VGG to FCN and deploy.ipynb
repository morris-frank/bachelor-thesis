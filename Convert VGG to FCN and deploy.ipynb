{
 "cells": [
  {
   "cell_type": "code",
   "execution_count": 1,
   "metadata": {
    "collapsed": true,
    "deletable": true,
    "editable": true
   },
   "outputs": [],
   "source": [
    "import caffe\n",
    "caffe.set_mode_gpu()\n",
    "caffe.set_device(3)"
   ]
  },
  {
   "cell_type": "code",
   "execution_count": 5,
   "metadata": {
    "collapsed": false,
    "deletable": true,
    "editable": true
   },
   "outputs": [
    {
     "name": "stdout",
     "output_type": "stream",
     "text": [
      "fc6_ weights are (4096, 100352) dimensional and biases are (4096,) dimensional\n",
      "fc7_ weights are (4096, 4096) dimensional and biases are (4096,) dimensional\n"
     ]
    }
   ],
   "source": [
    "net = caffe.Net('data/models/airStern_patchDetection/val.prototxt', 'data/models/airStern_patchDetection/snapshots/train_iter_4000.caffemodel', caffe.TEST)\n",
    "params = ['fc6_', 'fc7_']\n",
    "fc_params = {pr: (net.params[pr][0].data, net.params[pr][1].data) for pr in params}\n",
    "\n",
    "for fc in params:\n",
    "    print('{} weights are {} dimensional and biases are {} dimensional'.format(fc, fc_params[fc][0].shape, fc_params[fc][1].shape))"
   ]
  },
  {
   "cell_type": "code",
   "execution_count": 11,
   "metadata": {
    "collapsed": false,
    "deletable": true,
    "editable": true
   },
   "outputs": [
    {
     "name": "stdout",
     "output_type": "stream",
     "text": [
      "fc6_conv weights are (4096, 512, 7, 7) dimensional and biases are (4096,) dimensional\n",
      "fc7_conv weights are (4096, 4096, 1, 1) dimensional and biases are (4096,) dimensional\n"
     ]
    }
   ],
   "source": [
    "# Load the fully convolutional network to transplant the parameters.\n",
    "net_full_conv = caffe.Net('data/models/airStern_patchDetection_FCN/train.prototxt', \n",
    "                          'data/models/airStern_patchDetection/snapshots/train_iter_4000.caffemodel',\n",
    "                          caffe.TEST)\n",
    "params_full_conv = ['fc6_conv', 'fc7_conv']\n",
    "# conv_params = {name: (weights, biases)}\n",
    "conv_params = {pr: (net_full_conv.params[pr][0].data, net_full_conv.params[pr][1].data) for pr in params_full_conv}\n",
    "\n",
    "for conv in params_full_conv:\n",
    "    print('{} weights are {} dimensional and biases are {} dimensional'.format(conv, conv_params[conv][0].shape, conv_params[conv][1].shape))"
   ]
  },
  {
   "cell_type": "code",
   "execution_count": 12,
   "metadata": {
    "collapsed": false,
    "deletable": true,
    "editable": true
   },
   "outputs": [],
   "source": [
    "for pr, pr_conv in zip(params, params_full_conv):\n",
    "    conv_params[pr_conv][0].flat = fc_params[pr][0].flat  # flat unrolls the arrays\n",
    "    conv_params[pr_conv][1][...] = fc_params[pr][1]\n"
   ]
  },
  {
   "cell_type": "code",
   "execution_count": 13,
   "metadata": {
    "collapsed": true
   },
   "outputs": [],
   "source": [
    "net_full_conv.save('data/models/airStern_patchDetection/snapshots/fcn_train_iter_4000.caffemodel')"
   ]
  },
  {
   "cell_type": "code",
   "execution_count": null,
   "metadata": {
    "collapsed": true
   },
   "outputs": [],
   "source": []
  }
 ],
 "metadata": {
  "kernelspec": {
   "display_name": "Python 3",
   "language": "python",
   "name": "python3"
  },
  "language_info": {
   "codemirror_mode": {
    "name": "ipython",
    "version": 3
   },
   "file_extension": ".py",
   "mimetype": "text/x-python",
   "name": "python",
   "nbconvert_exporter": "python",
   "pygments_lexer": "ipython3",
   "version": "3.5.2"
  }
 },
 "nbformat": 4,
 "nbformat_minor": 2
}

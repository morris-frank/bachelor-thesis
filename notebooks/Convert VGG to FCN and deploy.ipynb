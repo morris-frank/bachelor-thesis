{
 "cells": [
  {
   "cell_type": "code",
   "execution_count": null,
   "metadata": {
    "collapsed": false,
    "deletable": true,
    "editable": true
   },
   "outputs": [],
   "source": [
    "import caffe\n",
    "caffe.set_mode_gpu()\n",
    "caffe.set_device(0)\n",
    "nn = 'ResNet50-Single_Stern'\n",
    "nf = 'ResNet50-Single-FCN_Stern'\n",
    "\n",
    "#nn = 'VGG16-Single'\n",
    "#nf = 'FCN32_posPatchRefining'\n",
    "\n",
    "it = '4000'"
   ]
  },
  {
   "cell_type": "code",
   "execution_count": null,
   "metadata": {
    "collapsed": false,
    "deletable": true,
    "editable": true
   },
   "outputs": [],
   "source": [
    "net = caffe.Net('../data/models/'+nn+'/deploy.prototxt', '../data/models/'+nn+'/snapshots/train_iter_'+it+'.caffemodel', caffe.TEST)\n",
    "params = ['fc']\n",
    "#params = ['fc6_', 'fc7_', 'fc8_']\n",
    "fc_params = {pr: (net.params[pr][0].data, net.params[pr][1].data) for pr in params}\n",
    "\n",
    "for fc in params:\n",
    "    print('{} weights are {} dimensional and biases are {} dimensional'.format(fc, fc_params[fc][0].shape, fc_params[fc][1].shape))"
   ]
  },
  {
   "cell_type": "code",
   "execution_count": null,
   "metadata": {
    "collapsed": false,
    "deletable": true,
    "editable": true,
    "scrolled": true
   },
   "outputs": [],
   "source": [
    "# Load the fully convolutional network to transplant the parameters.\n",
    "net_full_conv = caffe.Net('../data/models/'+nf+'/deploy.prototxt', \n",
    "                          '../data/models/'+nn+'/snapshots/train_iter_'+it+'.caffemodel',\n",
    "                          caffe.TEST)\n",
    "params_full_conv = ['fc_conv']\n",
    "#params_full_conv = ['fc6_conv', 'fc7_conv', 'score_fr_']\n",
    "# conv_params = {name: (weights, biases)}\n",
    "conv_params = {pr: (net_full_conv.params[pr][0].data, net_full_conv.params[pr][1].data) for pr in params_full_conv}\n",
    "\n",
    "for conv in params_full_conv:\n",
    "    print('{} weights are {} dimensional and biases are {} dimensional'.format(conv, conv_params[conv][0].shape, conv_params[conv][1].shape))"
   ]
  },
  {
   "cell_type": "code",
   "execution_count": null,
   "metadata": {
    "collapsed": false,
    "deletable": true,
    "editable": true
   },
   "outputs": [],
   "source": [
    "conv_params['fc_conv'][0].shape"
   ]
  },
  {
   "cell_type": "code",
   "execution_count": null,
   "metadata": {
    "collapsed": false,
    "deletable": true,
    "editable": true
   },
   "outputs": [],
   "source": [
    "for pr, pr_conv in zip(params, params_full_conv):\n",
    "    conv_params[pr_conv][0].flat = fc_params[pr][0].flat  # flat unrolls the arrays\n",
    "    conv_params[pr_conv][1][...] = fc_params[pr][1]\n"
   ]
  },
  {
   "cell_type": "code",
   "execution_count": null,
   "metadata": {
    "collapsed": false,
    "deletable": true,
    "editable": true
   },
   "outputs": [],
   "source": [
    "net_full_conv.save('../data/models/'+nf+'/snapshots/classifier_train_iter_'+it+'.caffemodel')"
   ]
  },
  {
   "cell_type": "code",
   "execution_count": null,
   "metadata": {
    "collapsed": true,
    "deletable": true,
    "editable": true
   },
   "outputs": [],
   "source": []
  }
 ],
 "metadata": {
  "kernelspec": {
   "display_name": "Python 3",
   "language": "python",
   "name": "python3"
  },
  "language_info": {
   "codemirror_mode": {
    "name": "ipython",
    "version": 3
   },
   "file_extension": ".py",
   "mimetype": "text/x-python",
   "name": "python",
   "nbconvert_exporter": "python",
   "pygments_lexer": "ipython3",
   "version": "3.5.2"
  }
 },
 "nbformat": 4,
 "nbformat_minor": 2
}

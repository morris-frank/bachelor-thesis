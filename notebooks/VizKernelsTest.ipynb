{
 "cells": [
  {
   "cell_type": "code",
   "execution_count": null,
   "metadata": {
    "collapsed": true,
    "deletable": true,
    "editable": true
   },
   "outputs": [],
   "source": [
    "import caffe\n",
    "caffe.set_device(3)\n",
    "caffe.set_mode_gpu()"
   ]
  },
  {
   "cell_type": "code",
   "execution_count": null,
   "metadata": {
    "collapsed": false,
    "deletable": true,
    "editable": true
   },
   "outputs": [],
   "source": [
    "# net = caffe.Net('../data/models/FCN32_posPatchRefining/deploy.prototxt', '../data/models/FCN32_posPatchRefining/snapshots/fcn32s_train_iter_4000.caffemodel', caffe.TEST)\n",
    "#net = caffe.Net('../data/models/airStern_patchDetection_FCN/deploy.prototxt', '../data/models/airStern_patchDetection_FCN/snapshots/train_iter_4000.caffemodel', caffe.TEST)\n",
    "net = caffe.Net('../data/models/ResNet50-Single_Stern/deploy.prototxt', '../data/models/ResNet50-Single_Stern/snapshots/train_iter_500.caffemodel', caffe.TEST)\n",
    "net.params"
   ]
  },
  {
   "cell_type": "code",
   "execution_count": null,
   "metadata": {
    "collapsed": true,
    "deletable": true,
    "editable": true
   },
   "outputs": [],
   "source": [
    "import matplotlib.pyplot as plt\n",
    "import numpy as np"
   ]
  },
  {
   "cell_type": "code",
   "execution_count": null,
   "metadata": {
    "collapsed": false,
    "deletable": true,
    "editable": true
   },
   "outputs": [],
   "source": [
    "fig = plt.figure(figsize=(30,30))\n",
    "i = 0\n",
    "n = 30\n",
    "for x in range(n):\n",
    "    for y in range(n):\n",
    "        k = net.params['res5c_branch2b'][0].data[200+x,300+y,...]\n",
    "        ax = fig.add_subplot(n, n, i+1)\n",
    "        ax.set_axis_off()\n",
    "        ax.set_xticklabels([])\n",
    "        ax.set_yticklabels([])\n",
    "        ax.set_aspect('equal')\n",
    "        ax.imshow(k)\n",
    "        i += 1\n",
    "plt.subplots_adjust(wspace=None, hspace=None)\n",
    "plt.show()"
   ]
  },
  {
   "cell_type": "code",
   "execution_count": null,
   "metadata": {
    "collapsed": false,
    "deletable": true,
    "editable": true
   },
   "outputs": [],
   "source": [
    "ks = 1\n",
    "nout = 1024\n",
    "nin = 256\n",
    "l = 'res4f_branch2c'\n",
    "kmap = net.params[l][0].data.reshape((ks*nin,ks*nout))\n",
    "fig = plt.figure(figsize=(60,60))\n",
    "plt.imshow(kmap)\n",
    "plt.show()"
   ]
  },
  {
   "cell_type": "code",
   "execution_count": null,
   "metadata": {
    "collapsed": true,
    "deletable": true,
    "editable": true
   },
   "outputs": [],
   "source": []
  }
 ],
 "metadata": {
  "kernelspec": {
   "display_name": "Python 3",
   "language": "python",
   "name": "python3"
  },
  "language_info": {
   "codemirror_mode": {
    "name": "ipython",
    "version": 3
   },
   "file_extension": ".py",
   "mimetype": "text/x-python",
   "name": "python",
   "nbconvert_exporter": "python",
   "pygments_lexer": "ipython3",
   "version": "3.5.2"
  }
 },
 "nbformat": 4,
 "nbformat_minor": 2
}
